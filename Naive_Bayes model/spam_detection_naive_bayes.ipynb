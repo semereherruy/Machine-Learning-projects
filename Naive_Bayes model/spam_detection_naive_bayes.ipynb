{
 "cells": [
  {
   "cell_type": "code",
   "execution_count": 12,
   "id": "7e51b340",
   "metadata": {},
   "outputs": [],
   "source": [
    "# Import necessary libraries\n",
    "import pandas as pd\n",
    "from sklearn.model_selection import train_test_split\n",
    "from sklearn.feature_extraction.text import CountVectorizer\n",
    "from sklearn.naive_bayes import MultinomialNB\n",
    "from sklearn.metrics import accuracy_score, classification_report, confusion_matrix"
   ]
  },
  {
   "cell_type": "code",
   "execution_count": 22,
   "id": "f1a0216b",
   "metadata": {},
   "outputs": [],
   "source": [
    "# Step 1: Load data from the Excel file\n",
    "file_path = '/Users/user/Downloads/spam_not_spam.xlsx'\n",
    "all_sheets = pd.read_excel(file_path, sheet_name=None)  # Load all sheets"
   ]
  },
  {
   "cell_type": "code",
   "execution_count": 18,
   "id": "1aef4397",
   "metadata": {},
   "outputs": [],
   "source": [
    "# Step 2: Print sheet names and a preview of each sheet's content\n",
    "for sheet_name, sheet_data in all_sheets.items():\n",
    "    print(f\"Sheet Name: {sheet_name}\")\n",
    "    print(sheet_data.head())  # Print the first few rows to check content\n",
    "    print(\"\\n---\\n\")"
   ]
  },
  {
   "cell_type": "code",
   "execution_count": null,
   "id": "e595e363",
   "metadata": {},
   "outputs": [],
   "source": [
    "\n",
    "# Vectorize the text data using CountVectorizer\n",
    "vectorizer = CountVectorizer()\n",
    "X_train_vectorized = vectorizer.fit_transform(X_train)\n",
    "X_test_vectorized = vectorizer.transform(X_test)\n",
    "    "
   ]
  },
  {
   "cell_type": "code",
   "execution_count": null,
   "id": "fefb5e8f",
   "metadata": {},
   "outputs": [],
   "source": [
    "\n",
    "# Train the Naive Bayes model\n",
    "model = MultinomialNB()\n",
    "model.fit(X_train_vectorized, y_train)\n",
    "    "
   ]
  },
  {
   "cell_type": "code",
   "execution_count": null,
   "id": "b418533c",
   "metadata": {},
   "outputs": [],
   "source": [
    "\n",
    "# Make predictions on the test data\n",
    "y_pred = model.predict(X_test_vectorized)\n",
    "\n",
    "# Evaluate the model\n",
    "accuracy = accuracy_score(y_test, y_pred)\n",
    "print(\"Accuracy:\", accuracy)\n",
    "print(\"Classification Report:\n",
    "\", classification_report(y_test, y_pred))\n",
    "print(\"Confusion Matrix:\n",
    "\", confusion_matrix(y_test, y_pred))\n",
    "    "
   ]
  }
 ],
 "metadata": {
  "kernelspec": {
   "display_name": "Python 3 (ipykernel)",
   "language": "python",
   "name": "python3"
  },
  "language_info": {
   "codemirror_mode": {
    "name": "ipython",
    "version": 3
   },
   "file_extension": ".py",
   "mimetype": "text/x-python",
   "name": "python",
   "nbconvert_exporter": "python",
   "pygments_lexer": "ipython3",
   "version": "3.9.13"
  }
 },
 "nbformat": 4,
 "nbformat_minor": 5
}
